{
 "cells": [
  {
   "cell_type": "code",
   "execution_count": null,
   "id": "772f143c",
   "metadata": {},
   "outputs": [],
   "source": [
    "import cv2\n",
    "\n",
    "face_classifier=cv2.CascadeClassifier(\"cascade/frontalfacealt.xml\")\n",
    "eye_face_classifier=cv2.CascadeClassifier(\"cascade/f_eye.xml\")\n"
   ]
  },
  {
   "cell_type": "code",
   "execution_count": 1,
   "id": "376b97b6",
   "metadata": {},
   "outputs": [],
   "source": [
    "import cv2\n",
    "face_classifier=cv2.CascadeClassifier(\"cascade/frontalfacealt.xml\")\n",
    "eye_face_classifier=cv2.CascadeClassifier(\"cascade/f_eye.xml\")\n",
    "\n",
    "camera=cv2.VideoCapture(0)\n",
    "\n",
    "while camera.isOpened():\n",
    "    ret,frame= camera.read()\n",
    "    if not ret :\n",
    "        print(\"frame vazio\")\n",
    "        continue\n",
    "    gray_image=cv2.cvtColor(frame,cv2.COLOR_BGR2GRAY)\n",
    "    faces=face_classifier.detectMultiScale(gray_image,1.25, 5)\n",
    "\n",
    "    for (x,y,w,h) in faces:\n",
    "        cv2.rectangle(frame, (x,y), (x+w, y+h), (0,0 ,255), 2) \n",
    "        rec_gray=gray_image[y: y+h, x: x+w]\n",
    "        rec_color=frame[y: y+h,x: x+w]\n",
    "        olhos = eye_face_classifier.detectMultiScale(rec_gray)\n",
    "        for (x1,y1,w1,h1) in olhos:\n",
    "            cv2.rectangle(rec_color,(x1,y1),(x1+w1, y1+h1),(0,150 ,255),2)\n",
    "\n",
    "\n",
    "\n",
    "    cv2.imshow(\"Webcam\",frame)\n",
    "\n",
    "    key= cv2.waitKey(1)\n",
    "    if key ==27:\n",
    "        break\n",
    "\n",
    "camera.release()\n",
    "cv2.destroyAllWindows()"
   ]
  }
 ],
 "metadata": {
  "kernelspec": {
   "display_name": "base",
   "language": "python",
   "name": "python3"
  },
  "language_info": {
   "codemirror_mode": {
    "name": "ipython",
    "version": 3
   },
   "file_extension": ".py",
   "mimetype": "text/x-python",
   "name": "python",
   "nbconvert_exporter": "python",
   "pygments_lexer": "ipython3",
   "version": "3.12.7"
  }
 },
 "nbformat": 4,
 "nbformat_minor": 5
}
