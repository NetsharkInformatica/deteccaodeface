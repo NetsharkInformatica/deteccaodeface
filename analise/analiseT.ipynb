{
 "cells": [
  {
   "cell_type": "code",
   "execution_count": 2,
   "id": "27f90e74",
   "metadata": {},
   "outputs": [],
   "source": [
    "import os\n"
   ]
  },
  {
   "cell_type": "code",
   "execution_count": null,
   "id": "44333e09",
   "metadata": {},
   "outputs": [],
   "source": [
    "import os\n",
    "caminho_arquivo = os.path.join(\n",
    "    r\"C:\\Users\\HTom\\Documents\\projetosPython\\deteccaodeface\\analise\\data\",  # Caminho para o diretório onde o arquivo está localizado\n",
    "    \"arquivo.txt\"  # Exemplo: \"texto.txt\", \"dados.csv\", etc.\n",
    ")\n",
    "with open(caminho_arquivo, \"r\", encoding=\"utf-8\") as arquivo:\n",
    "    texto = arquivo.read()\n",
    "\n",
    "print(texto)\n"
   ]
  }
 ],
 "metadata": {
  "kernelspec": {
   "display_name": "base",
   "language": "python",
   "name": "python3"
  },
  "language_info": {
   "codemirror_mode": {
    "name": "ipython",
    "version": 3
   },
   "file_extension": ".py",
   "mimetype": "text/x-python",
   "name": "python",
   "nbconvert_exporter": "python",
   "pygments_lexer": "ipython3",
   "version": "3.12.7"
  }
 },
 "nbformat": 4,
 "nbformat_minor": 5
}
