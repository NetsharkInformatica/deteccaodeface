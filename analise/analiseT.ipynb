{
 "cells": [
  {
   "cell_type": "code",
   "execution_count": 12,
   "id": "27f90e74",
   "metadata": {},
   "outputs": [],
   "source": [
    "import os\n",
    "from  nltk import sent_tokenize, word_tokenize"
   ]
  },
  {
   "cell_type": "code",
   "execution_count": 7,
   "id": "44333e09",
   "metadata": {},
   "outputs": [
    {
     "name": "stdout",
     "output_type": "stream",
     "text": [
      "Ainda pior que a convicção do não e a incerteza do talvez é a desilusão de um quase. \n",
      "É o quase que me incomoda, que me entristece, que me mata trazendo tudo que poderia ter \n",
      "sido e não foi. Quem quase ganhou ainda joga, quem quase passou ainda estuda, \n",
      "quem quase morreu está vivo, quem quase amou não amou. \n",
      "Basta pensar nas oportunidades que escaparam pelos dedos, nas chances que se perdem por medo, \n",
      "nas ideias que nunca sairão do papel por essa maldita mania de viver no outono python. \n"
     ]
    }
   ],
   "source": [
    "import os\n",
    "caminho_arquivo = os.path.join(\n",
    "    \"data/\",\"texto.txt\"  )\n",
    "\n",
    "with open(caminho_arquivo, \"r\", encoding=\"utf-8\") as arquivo:\n",
    "    texto = arquivo.read()\n",
    "\n",
    "print(texto)\n"
   ]
  },
  {
   "cell_type": "code",
   "execution_count": 9,
   "id": "ab2d902b",
   "metadata": {},
   "outputs": [
    {
     "data": {
      "text/plain": [
       "'Ainda pior que a convicção do não e a incerteza do talvez é a desilusão de um quase.  É o quase que me incomoda, que me entristece, que me mata trazendo tudo que poderia ter  sido e não foi. Quem quase ganhou ainda joga, quem quase passou ainda estuda,  quem quase morreu está vivo, quem quase amou não amou.  Basta pensar nas oportunidades que escaparam pelos dedos, nas chances que se perdem por medo,  nas ideias que nunca sairão do papel por essa maldita mania de viver no outono python. '"
      ]
     },
     "execution_count": 9,
     "metadata": {},
     "output_type": "execute_result"
    }
   ],
   "source": [
    "texto_full= \" \".join(texto.splitlines())\n",
    "texto_full"
   ]
  },
  {
   "cell_type": "code",
   "execution_count": 2,
   "id": "e6dd25dd",
   "metadata": {},
   "outputs": [
    {
     "name": "stdout",
     "output_type": "stream",
     "text": [
      "['Ainda pior que a convicção do não e a incerteza do talvez é a desilusão de um quase.', 'É o quase que me incomoda, que me entristece, que me mata trazendo tudo que poderia ter  sido e não foi.', 'Quem quase ganhou ainda joga, quem quase passou ainda estuda,  quem quase morreu está vivo, quem quase amou não amou.', 'Basta pensar nas oportunidades que escaparam pelos dedos, nas chances que se perdem por medo,  nas ideias que nunca sairão do papel por essa maldita mania de viver no outono.']\n"
     ]
    }
   ],
   "source": [
    "\n",
    "from nltk.tokenize import sent_tokenize\n",
    "import os\n",
    "import nltk\n",
    "\n",
    "\n",
    "\n",
    "# Garante que os recursos estão baixados\n",
    "nltk.download('punkt', quiet=True)\n",
    "nltk.download('punkt_tab', quiet=True)\n",
    "\n",
    "# Lê o arquivo\n",
    "caminho_arquivo = os.path.join(\"data/\", \"texto.txt\")\n",
    "with open(caminho_arquivo, \"r\", encoding=\"utf-8\") as arquivo:\n",
    "    texto = arquivo.read()\n",
    "\n",
    "# Processa o texto\n",
    "texto_full = \" \".join(texto.splitlines())\n",
    "\n",
    "# Tokeniza as frases\n",
    "sent_token = sent_tokenize(texto_full, language=\"english\")\n",
    "print(sent_token)"
   ]
  }
 ],
 "metadata": {
  "kernelspec": {
   "display_name": "base",
   "language": "python",
   "name": "python3"
  },
  "language_info": {
   "codemirror_mode": {
    "name": "ipython",
    "version": 3
   },
   "file_extension": ".py",
   "mimetype": "text/x-python",
   "name": "python",
   "nbconvert_exporter": "python",
   "pygments_lexer": "ipython3",
   "version": "3.12.1"
  }
 },
 "nbformat": 4,
 "nbformat_minor": 5
}
