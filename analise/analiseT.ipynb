{
 "cells": [
  {
   "cell_type": "code",
   "execution_count": 54,
   "id": "27f90e74",
   "metadata": {},
   "outputs": [],
   "source": [
    "import os\n",
    "import nltk\n",
    "from  nltk import sent_tokenize, word_tokenize\n",
    "from nltk.probability import FreqDist\n",
    "from nltk.corpus import stopwords\n",
    "import matplotlib.pyplot as plt\n",
    "from wordcloud import wordcloud, STOPWORDS\n",
    "import numpy as np\n",
    "from PIL import Image"
   ]
  },
  {
   "cell_type": "code",
   "execution_count": 7,
   "id": "44333e09",
   "metadata": {},
   "outputs": [
    {
     "name": "stdout",
     "output_type": "stream",
     "text": [
      "Ainda pior que a convicção do não e a incerteza do talvez é a desilusão de um quase. \n",
      "É o quase que me incomoda, que me entristece, que me mata trazendo tudo que poderia ter \n",
      "sido e não foi. Quem quase ganhou ainda joga, quem quase passou ainda estuda, \n",
      "quem quase morreu está vivo, quem quase amou não amou. \n",
      "Basta pensar nas oportunidades que escaparam pelos dedos, nas chances que se perdem por medo, \n",
      "nas ideias que nunca sairão do papel por essa maldita mania de viver no outono python. \n"
     ]
    }
   ],
   "source": [
    "import os\n",
    "caminho_arquivo = os.path.join(\n",
    "    \"data/\",\"texto.txt\"  )\n",
    "\n",
    "with open(caminho_arquivo, \"r\", encoding=\"utf-8\") as arquivo:\n",
    "    texto = arquivo.read()\n",
    "\n",
    "print(texto)\n"
   ]
  },
  {
   "cell_type": "code",
   "execution_count": 33,
   "id": "ab2d902b",
   "metadata": {},
   "outputs": [
    {
     "data": {
      "text/plain": [
       "'ainda pior que a convicção do não e a incerteza do talvez é a desilusão de um quase.  é o quase que me incomoda, que me entristece, que me mata trazendo tudo que poderia ter  sido e não foi. quem quase ganhou ainda joga, quem quase passou ainda estuda,  quem quase morreu está vivo, quem quase amou não amou.  basta pensar nas oportunidades que escaparam pelos dedos, nas chances que se perdem por medo,  nas ideias que nunca sairão do papel por essa maldita mania de viver no outono. '"
      ]
     },
     "execution_count": 33,
     "metadata": {},
     "output_type": "execute_result"
    }
   ],
   "source": [
    "texto_full= \" \".join(texto.splitlines())\n",
    "texto_full=texto_full.lower()\n",
    "texto_full"
   ]
  },
  {
   "cell_type": "code",
   "execution_count": 40,
   "id": "e6dd25dd",
   "metadata": {},
   "outputs": [
    {
     "name": "stdout",
     "output_type": "stream",
     "text": [
      "['ainda pior que a convicção do não e a incerteza do talvez é a desilusão de um quase.', 'é o quase que me incomoda, que me entristece, que me mata trazendo tudo que poderia ter  sido e não foi.', 'quem quase ganhou ainda joga, quem quase passou ainda estuda,  quem quase morreu está vivo, quem quase amou não amou.', 'basta pensar nas oportunidades que escaparam pelos dedos, nas chances que se perdem por medo,  nas ideias que nunca sairão do papel por essa maldita mania de viver no outono.']\n"
     ]
    }
   ],
   "source": [
    "\n",
    "from nltk.tokenize import sent_tokenize\n",
    "import os\n",
    "import nltk\n",
    "\n",
    "\n",
    "\n",
    "# Garante que os recursos estão baixados\n",
    "#nltk.download('punkt', quiet=True)\n",
    "#nltk.download('punkt_tab', quiet=True)\n",
    "\n",
    "# Lê o arquivo\n",
    "\"\"\" caminho_arquivo = os.path.join(\"data/\", \"texto.txt\")\n",
    "with open(caminho_arquivo, \"r\", encoding=\"utf-8\") as arquivo:\n",
    "    texto = arquivo.read()\n",
    "\n",
    "# Processa o texto\n",
    "texto_full = \" \".join(texto.splitlines()) \"\"\"\n",
    "\n",
    "# Tokeniza as frases\n",
    "texto_full=texto_full.lower()\n",
    "sent_token = sent_tokenize(texto_full, language=\"english\")\n",
    "print(sent_token)"
   ]
  },
  {
   "cell_type": "code",
   "execution_count": null,
   "id": "e24969f3",
   "metadata": {},
   "outputs": [],
   "source": [
    "#from nltk.tokenize import word_tokenize\n",
    "\n",
    "\n",
    "\n",
    "word_token = word_tokenize(texto_full.lower())\n",
    "word_token"
   ]
  },
  {
   "cell_type": "code",
   "execution_count": 17,
   "id": "6f9d8254",
   "metadata": {},
   "outputs": [
    {
     "data": {
      "text/plain": [
       "FreqDist({'que': 8, ',': 7, 'quase': 6, '.': 4, 'a': 3, 'do': 3, 'não': 3, 'me': 3, 'quem': 3, 'nas': 3, ...})"
      ]
     },
     "execution_count": 17,
     "metadata": {},
     "output_type": "execute_result"
    }
   ],
   "source": [
    "frdist=FreqDist(word_token)\n",
    "\n",
    "frdist"
   ]
  },
  {
   "cell_type": "code",
   "execution_count": 23,
   "id": "6364c4b4",
   "metadata": {},
   "outputs": [],
   "source": [
    "stop_words=set(stopwords.words('portuguese'))"
   ]
  },
  {
   "cell_type": "code",
   "execution_count": null,
   "id": "f4f0cea5",
   "metadata": {},
   "outputs": [],
   "source": [
    "filtered_words = [word for word in word_token if word.isalnum() and word not in stop_words]\n",
    "filtered_words"
   ]
  },
  {
   "cell_type": "code",
   "execution_count": 43,
   "id": "0b4a017f",
   "metadata": {},
   "outputs": [
    {
     "data": {
      "text/plain": [
       "[('quase', 6), ('ainda', 2), ('amou', 2), ('Ainda', 1), ('pior', 1)]"
      ]
     },
     "execution_count": 43,
     "metadata": {},
     "output_type": "execute_result"
    }
   ],
   "source": [
    "texto_full=texto_full.lower()\n",
    "\n",
    "fdist2=FreqDist(filtered_words)\n",
    "fdist2.most_common(5)"
   ]
  },
  {
   "cell_type": "code",
   "execution_count": null,
   "id": "d42d1173",
   "metadata": {},
   "outputs": [],
   "source": [
    "fdist2.plot(5)"
   ]
  },
  {
   "cell_type": "code",
   "execution_count": 47,
   "id": "eb0298ae",
   "metadata": {},
   "outputs": [],
   "source": [
    "def plot_cloud(wordcloud):\n",
    "    plt.figure(figsize=(40, 30))\n",
    "    plt.imshow(wordcloud)\n",
    "    plt.axis(\"off\")\n",
    "    plt.show()"
   ]
  },
  {
   "cell_type": "code",
   "execution_count": 50,
   "id": "0de1f0df",
   "metadata": {},
   "outputs": [
    {
     "data": {
      "text/plain": [
       "<wordcloud.wordcloud.WordCloud at 0x1483e95ea20>"
      ]
     },
     "execution_count": 50,
     "metadata": {},
     "output_type": "execute_result"
    }
   ],
   "source": [
    "\n",
    "from wordcloud import WordCloud, STOPWORDS\n",
    "wc= WordCloud(\n",
    "    width=3000,\n",
    "    height=2000,\n",
    "    random_state=1,\n",
    "    background_color=\"salmon\",\n",
    "    colormap=\"Pastel1\",\n",
    "    collocations=False,\n",
    "    stopwords=STOPWORDS\n",
    "    \n",
    ")\n",
    "wc.generate(texto_full)"
   ]
  },
  {
   "cell_type": "code",
   "execution_count": null,
   "id": "d69c945a",
   "metadata": {},
   "outputs": [],
   "source": [
    "plot_cloud(wc)"
   ]
  },
  {
   "cell_type": "code",
   "execution_count": null,
   "id": "7dfe99ce",
   "metadata": {},
   "outputs": [],
   "source": [
    "mascara = np.array(Image.open(\"data/upvote.png\"))\n",
    "mascara"
   ]
  },
  {
   "cell_type": "code",
   "execution_count": 63,
   "id": "ce514c15",
   "metadata": {},
   "outputs": [
    {
     "data": {
      "text/plain": [
       "<wordcloud.wordcloud.WordCloud at 0x1483c8276b0>"
      ]
     },
     "execution_count": 63,
     "metadata": {},
     "output_type": "execute_result"
    }
   ],
   "source": [
    "from wordcloud import WordCloud, STOPWORDS\n",
    "wc2= WordCloud(\n",
    "    width=3000,\n",
    "    height=2000,\n",
    "    random_state=1,\n",
    "    background_color=\"salmon\",\n",
    "    colormap=\"Pastel1\",\n",
    "    collocations=False,\n",
    "    stopwords=STOPWORDS,\n",
    "    mask = mascara\n",
    "    \n",
    ")\n",
    "wc2.generate(texto_full)"
   ]
  },
  {
   "cell_type": "code",
   "execution_count": null,
   "id": "ef67d5b9",
   "metadata": {},
   "outputs": [],
   "source": [
    "plot_cloud(wc2)"
   ]
  }
 ],
 "metadata": {
  "kernelspec": {
   "display_name": "base",
   "language": "python",
   "name": "python3"
  },
  "language_info": {
   "codemirror_mode": {
    "name": "ipython",
    "version": 3
   },
   "file_extension": ".py",
   "mimetype": "text/x-python",
   "name": "python",
   "nbconvert_exporter": "python",
   "pygments_lexer": "ipython3",
   "version": "3.12.1"
  }
 },
 "nbformat": 4,
 "nbformat_minor": 5
}
