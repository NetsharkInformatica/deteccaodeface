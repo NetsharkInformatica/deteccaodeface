{
 "cells": [
  {
   "cell_type": "code",
   "execution_count": 1,
   "metadata": {},
   "outputs": [],
   "source": [
    "from goose3 import Goose\n",
    "import os\n",
    "import nltk\n",
    "from  nltk import sent_tokenize, word_tokenize\n",
    "from nltk.probability import FreqDist\n",
    "from nltk.corpus import stopwords\n",
    "import matplotlib.pyplot as plt\n",
    "from wordcloud import wordcloud, STOPWORDS\n",
    "import numpy as np\n",
    "from PIL import Image"
   ]
  },
  {
   "cell_type": "code",
   "execution_count": 2,
   "metadata": {},
   "outputs": [],
   "source": [
    "g= Goose()\n",
    "url=\"https://olhardigital.com.br/2025/07/30/dicas-e-tutoriais/como-configurar-passkeys-no-app-microsoft-authenticator-e-por-que-voce-deve-fazer-isso-hoje/\"\n",
    "artigo = g.extract(url)"
   ]
  },
  {
   "cell_type": "code",
   "execution_count": 10,
   "metadata": {},
   "outputs": [
    {
     "data": {
      "text/plain": [
       "'Você sabia que o Microsoft Authenticator não armazena mais senhas em apps e sites? Com o fim da ferramenta de autocompletar, o aplicativo agora guardar apenas passkeys de contas compatíveis e códigos de autenticação em duas etapas.\\n\\nDessa forma, se você guarda credenciais no aplicativo, é preciso correr, pois a empresa anunciou que vai remover todas as senhas salvas no aplicativo para Android e iPhone em agosto de 2025. Ao mesmo tempo, se você pretende manter o uso da plataforma, veja como configurar passkeys no Authenticator.\\n\\nO que você precisa saber sobre as Passkeys no app Microsoft Authenticator?\\n\\nAs passkeys são uma espécie de chave digital para acessar aplicativos e sites sem precisar de uma senha, protegendo suas contas de acessos indevidos após vazamento de credenciais, por exemplo. Essas informações ficam salvas em uma espécie de cofre virtual, protegido por biometria ou por um PIN.\\n\\nAs chaves de acesso, porém, só podem ser utilizadas em serviços com suporte à tecnologia. Felizmente, boa parte das empresas, como Amazon, Google, Microsoft e afins, já oferecem a solução em suas contas. Ainda assim, é preciso confirmar a disponibilidade da opção de login antes de fazer a configuração.\\n• Como usar o Google Authenticator para verificação em duas etapas\\n• Microsoft vai liberar uso de passkey para todos os dispositivos\\n• Como criar passkey no 1Password no PC e celular\\n\\nAlém disso, no geral, apenas versões mais recentes de navegadores e sistemas operacionais contam com o recurso. Por isso, é importante manter uma senha forte e única nos serviços, pois nem todos os apps, sites e dispositivos oferecem suporte ao recurso.\\n\\nO armazenamento das chaves é outro ponto de atenção. Isto porque, em alguns casos, as passkeys ficam salvas apenas no dispositivo, e não na nuvem. Sendo assim, antes de trocar de aparelho ou formatar o celular, tablet ou computador, faça backup das credenciais para não perdê-las.\\n\\nImportante ressaltar que o Authenticator não guarda passkey de todas as contas, limitando-se a cadastros da Microsoft ou de serviços que utiliza o Entra ID. Para acessos fora do ecossistema da companhia, é preciso utilizar outro gerenciador de credenciais.\\n\\nA Microsoft vai excluir todas as senhas salvas no seu app Authenticator?\\n\\nO Microsoft Authenticator não possui mais a opção para salvar senhas. A função foi removida do aplicativo em junho de 2025, focando apenas no recurso para guardar chaves de acesso no aplicativo.\\n\\nEm agosto de 2025, as senhas salvas no aplicativo serão totalmente removidas do aplicativo. Por isso, é importante guardá-las quanto antes.\\n\\nDessa forma, se você salvava as suas credenciais no serviço, é necessário migrá-las para o Microsoft Edge ou algum gerenciador de senhas confiável, como o 1Password, LastPass, Proton Pass, NordPass, entre outros.\\n\\nAs Passkeys são mais seguras que as senhas salvas no Microsoft Authenticator?\\n\\nAs chaves de acesso tendem a oferecer mais segurança em relação às senhas como um todo, inclusive as que não estão salvas no Microsoft Authenticator. A solução promete reduzir o risco de invasão de conta tanto da plataforma de onde partiram os dados expostos quanto de outros perfis que utilizam a mesma credencial.\\n\\nDa mesma forma, as passkeys devem ser protegidas por outro mecanismo de autenticação, com destaque para a biometria. Porém, também é preciso garantir e reforçar a segurança do dispositivo e o do cofre virtual onde as chaves estão armazenadas, evitando que outras pessoas tenham acesso.\\n\\nÉ importante ainda utilizar mecanismos auxiliares, como o código aleatório da autenticação em duas etapas. Ao unir as duas soluções, assim como ocorre com as senhas, o login só é realizado após a confirmação de ambos.\\n\\nAo contrário das senhas, as passkeys dependem de um gerenciador de credenciais para funcionar. Já o login ocorre sem a necessidade de digitar nenhum código. Em vez disso, o cofre é acionado e é preciso apenas confirmar a autenticação com biometria ou PIN para entrar na conta.\\n\\nEssa opção fica disponível após a configuração de uma chave de acesso em gerenciadores de senhas ou através de dispositivos externos voltados para esse tipo de configuração. Para isso, basta entrar nas configurações da conta do app ou site desejado e fazer o cadastro.\\n\\nO Authenticator, no entanto, não adiciona passkey de contas fora do ecossistema da Microsoft. Nos demais serviços, é preciso utilizar outro gerenciador de credenciais.\\n\\nO Microsoft Authenticator não será completamente encerrado. Dessa forma, você não precisa remover o aplicativo do seu celular caso mantenha o uso para guardar passkeys da conta Microsoft ou para gerar códigos de autenticação em duas etapas de outros aplicativos.\\n\\nPor outro lado, se você utilizava apenas para guardar senhas, o aplicativo poderá ser removido após a migração das informações para outra plataforma. Afinal, os códigos não estarão mais disponíveis para acesso a partir de agosto de 2025.\\n\\nCabe ressaltar que é possível migrar as senhas para o Microsoft Edge, disponível tanto para computadores (Windows, Mac e Linux) quanto para Android e iOS.'"
      ]
     },
     "execution_count": 10,
     "metadata": {},
     "output_type": "execute_result"
    }
   ],
   "source": [
    "artigo.publish_date\n",
    "artigo.title\n",
    "artigo.links\n",
    "artigo.cleaned_text\n"
   ]
  },
  {
   "cell_type": "code",
   "execution_count": null,
   "metadata": {},
   "outputs": [],
   "source": [
    "word_token= word_tokenize(artigo.cleaned_text.lower())\n",
    "word_token"
   ]
  },
  {
   "cell_type": "code",
   "execution_count": 32,
   "metadata": {},
   "outputs": [],
   "source": [
    "portuguese_stops= set(stopwords.words(\"portuguese\"))"
   ]
  },
  {
   "cell_type": "code",
   "execution_count": 35,
   "metadata": {},
   "outputs": [],
   "source": [
    "palavra = [palavra for palavra in word_token if palavra.lower() not in portuguese_stops]"
   ]
  },
  {
   "cell_type": "code",
   "execution_count": 34,
   "metadata": {},
   "outputs": [
    {
     "data": {
      "text/plain": [
       "573"
      ]
     },
     "execution_count": 34,
     "metadata": {},
     "output_type": "execute_result"
    }
   ],
   "source": [
    "len(palavra)"
   ]
  },
  {
   "cell_type": "code",
   "execution_count": null,
   "metadata": {},
   "outputs": [],
   "source": [
    "fdist=FreqDist(palavra)\n",
    "fdist.most_common(10)"
   ]
  },
  {
   "cell_type": "code",
   "execution_count": null,
   "metadata": {},
   "outputs": [],
   "source": [
    "nova_palavra = [palavra for palavra in word_token if palavra.isalnum() ]\n",
    "len(nova_palavra)\n",
    "nova_palavra"
   ]
  },
  {
   "cell_type": "code",
   "execution_count": 27,
   "metadata": {},
   "outputs": [
    {
     "data": {
      "text/plain": [
       "[('de', 45), ('o', 22), ('para', 20), ('e', 16)]"
      ]
     },
     "execution_count": 27,
     "metadata": {},
     "output_type": "execute_result"
    }
   ],
   "source": [
    "fdist2=FreqDist(nova_palavra)\n",
    "fdist2.most_common(4)"
   ]
  },
  {
   "cell_type": "code",
   "execution_count": 38,
   "metadata": {},
   "outputs": [],
   "source": [
    "def plot_cloud(wordcloud):\n",
    "    plt.figure(figsize=(40, 30))\n",
    "    plt.imshow(wordcloud)\n",
    "    plt.axis(\"off\")\n",
    "    plt.show()"
   ]
  },
  {
   "cell_type": "code",
   "execution_count": 39,
   "metadata": {},
   "outputs": [
    {
     "data": {
      "text/plain": [
       "<wordcloud.wordcloud.WordCloud at 0x167492c7110>"
      ]
     },
     "execution_count": 39,
     "metadata": {},
     "output_type": "execute_result"
    }
   ],
   "source": [
    "from wordcloud import WordCloud, STOPWORDS\n",
    "wc= WordCloud(\n",
    "    width=3000,\n",
    "    height=2000,\n",
    "    random_state=1,\n",
    "    background_color=\"salmon\",\n",
    "    colormap=\"Pastel1\",\n",
    "    collocations=False,\n",
    "    stopwords=STOPWORDS\n",
    "    \n",
    ")\n",
    "wc.generate(\" \".join(nova_palavra))"
   ]
  },
  {
   "cell_type": "code",
   "execution_count": null,
   "metadata": {},
   "outputs": [],
   "source": [
    "plot_cloud(wc)"
   ]
  }
 ],
 "metadata": {
  "kernelspec": {
   "display_name": "Python 3",
   "language": "python",
   "name": "python3"
  },
  "language_info": {
   "codemirror_mode": {
    "name": "ipython",
    "version": 3
   },
   "file_extension": ".py",
   "mimetype": "text/x-python",
   "name": "python",
   "nbconvert_exporter": "python",
   "pygments_lexer": "ipython3",
   "version": "3.12.1"
  }
 },
 "nbformat": 4,
 "nbformat_minor": 2
}
